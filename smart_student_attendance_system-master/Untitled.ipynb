{
 "cells": [
  {
   "cell_type": "code",
   "execution_count": 34,
   "metadata": {},
   "outputs": [
    {
     "name": "stdout",
     "output_type": "stream",
     "text": [
      "['IT101', 'IT102']\n",
      "['IT103', 'IT104', 'IT105', 'IT106']\n",
      "['IT101', 'IT102']\n",
      "['IT101', 'IT102', 'IT103', 'IT104', 'IT105', 'IT106']\n"
     ]
    }
   ],
   "source": [
    "import csv\n",
    "present=['IT101','IT102']\n",
    "absent=[]\n",
    "print(present)\n",
    "with open('my_csv.csv', 'w', newline='') as f:\n",
    "        w = csv.writer(f)\n",
    "        for i in range(len(present)):\n",
    "            w.writerow([present[i],1])\n",
    "            \n",
    "for i in range(1,7):\n",
    "    i=str(i)\n",
    "    s='IT10'\n",
    "    i=s+i\n",
    "    if i in present:\n",
    "        pass\n",
    "    else:\n",
    "        absent.append(i)\n",
    "print(absent)\n",
    "with open('my_csv.csv', 'a', newline='') as f:\n",
    "        w = csv.writer(f)\n",
    "        for i in range(len(absent)):\n",
    "            w.writerow([absent[i],0])\n",
    "print(present)\n",
    "\n",
    "present.extend(absent)\n",
    "print(present)"
   ]
  },
  {
   "cell_type": "code",
   "execution_count": 16,
   "metadata": {},
   "outputs": [
    {
     "name": "stdout",
     "output_type": "stream",
     "text": [
      "['CE101', 'CE102', 1, 2, 3, 4, 5, 'CE103', 'CE104', 'CE105']\n"
     ]
    }
   ],
   "source": []
  },
  {
   "cell_type": "code",
   "execution_count": 16,
   "metadata": {},
   "outputs": [
    {
     "name": "stdout",
     "output_type": "stream",
     "text": [
      "['IT101', 'IT102', 'IT103', 'IT104', 'IT105', 'IT106']\n"
     ]
    }
   ],
   "source": []
  },
  {
   "cell_type": "code",
   "execution_count": 17,
   "metadata": {},
   "outputs": [
    {
     "name": "stdout",
     "output_type": "stream",
     "text": [
      "[]\n",
      "['IT101', 'IT102', 'IT103', 'IT104', 'IT105', 'IT106']\n",
      "None\n"
     ]
    }
   ],
   "source": [
    "\n",
    "\n"
   ]
  },
  {
   "cell_type": "code",
   "execution_count": null,
   "metadata": {},
   "outputs": [],
   "source": [
    "absent = []\n",
    "    count = 0\n",
    "    with open('attendance.csv', 'r') as f:\n",
    "        reader = csv.reader(f, delimiter=',')\n",
    "        for row in reader:\n",
    "            global sub\n",
    "            sub = row[2]\n",
    "            present.append(row[1])\n",
    "            count += 1\n",
    "    for i in range(1, 7):\n",
    "        i = str(i)\n",
    "        s = 'IT10'\n",
    "        i = s + i\n",
    "        if i in present:\n",
    "            pass\n",
    "        else:\n",
    "            absent.append(i)\n",
    "    with open('attendance.csv', 'a', newline='') as f:\n",
    "        w = csv.writer(f)\n",
    "        for i in range(len(absent)):\n",
    "            w.writerow([0, absent[i], sub,id])"
   ]
  }
 ],
 "metadata": {
  "kernelspec": {
   "display_name": "Python 3",
   "language": "python",
   "name": "python3"
  },
  "language_info": {
   "codemirror_mode": {
    "name": "ipython",
    "version": 3
   },
   "file_extension": ".py",
   "mimetype": "text/x-python",
   "name": "python",
   "nbconvert_exporter": "python",
   "pygments_lexer": "ipython3",
   "version": "3.8.3"
  }
 },
 "nbformat": 4,
 "nbformat_minor": 4
}
